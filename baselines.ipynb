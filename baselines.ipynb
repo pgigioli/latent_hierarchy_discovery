{
 "cells": [
  {
   "cell_type": "code",
   "execution_count": 12,
   "metadata": {},
   "outputs": [],
   "source": [
    "from sklearn.datasets import fetch_20newsgroups\n",
    "from sklearn.feature_extraction.text import TfidfVectorizer\n",
    "from sklearn.feature_extraction import stop_words\n",
    "from sklearn.model_selection import train_test_split\n",
    "from string import punctuation\n",
    "from collections import Counter\n",
    "import matplotlib.pyplot as plt\n",
    "import numpy as np\n",
    "stop_words = list(stop_words.ENGLISH_STOP_WORDS) + list(punctuation)\n",
    "\n",
    "import torchvision.models as models\n",
    "import torch"
   ]
  },
  {
   "cell_type": "code",
   "execution_count": 2,
   "metadata": {},
   "outputs": [],
   "source": [
    "hparams = {\n",
    "    'n_features' : 10000\n",
    "}"
   ]
  },
  {
   "cell_type": "markdown",
   "metadata": {},
   "source": [
    "### 20newgroups"
   ]
  },
  {
   "cell_type": "code",
   "execution_count": 17,
   "metadata": {},
   "outputs": [],
   "source": [
    "train = fetch_20newsgroups(subset='train')\n",
    "test = fetch_20newsgroups(subset='test')\n",
    "\n",
    "train_data, val_data = train_test_split(list(zip(train.data, train.target)), test_size=0.1, random_state=0)\n",
    "train_texts, train_targets = zip(*train_data)\n",
    "val_texts, val_targets = zip(*val_data)\n",
    "\n",
    "tfidf = TfidfVectorizer(max_features=hparams['n_features'], stop_words=stop_words)\n",
    "train_features = tfidf.fit_transform(train_texts).toarray().astype(np.float32)\n",
    "val_features = tfidf.transform(val_texts).toarray().astype(np.float32)\n",
    "test_features = tfidf.transform(test.data).toarray().astype(np.float32)\n",
    "\n",
    "class_counts = Counter(train_targets)\n",
    "class_weights = np.array([max(class_counts.values())/class_counts[i] for i in range(len(class_counts))])\n",
    "\n",
    "label_dict = dict([(k, v) for k, v in enumerate(train.target_names)])"
   ]
  },
  {
   "cell_type": "markdown",
   "metadata": {},
   "source": [
    "### CIFAR-100"
   ]
  },
  {
   "cell_type": "code",
   "execution_count": 28,
   "metadata": {},
   "outputs": [],
   "source": [
    "import subprocess\n",
    "import os\n",
    "\n",
    "def unpickle(file):\n",
    "    import pickle\n",
    "    with open(file, 'rb') as fo:\n",
    "        dict = pickle.load(fo, encoding='bytes')\n",
    "    return dict\n",
    "\n",
    "class Cifar100:\n",
    "    def __init__(self, val_split=None):\n",
    "        if not os.path.exists('cifar-100-python'):\n",
    "            if not os.path.exists('cifar-100-python.tar.gz'):\n",
    "                process = subprocess.Popen('wget https://www.cs.toronto.edu/~kriz/cifar-100-python.tar.gz'.split(), stdout=subprocess.PIPE)\n",
    "                output, error = process.communicate()\n",
    "                if error: print(error)\n",
    "            process = subprocess.Popen('tar -zxf cifar-100-python.tar.gz'.split(), stdout=subprocess.PIPE)\n",
    "            output, error = process.communicate()\n",
    "            if error: print(error)\n",
    "        \n",
    "        self.train_images, self.train_flat_labels, self.train_hier_labels = self._parse_data(unpickle('cifar-100-python/train'))\n",
    "        self.test_images, self.test_flat_labels, self.test_hier_labels = self._parse_data(unpickle('cifar-100-python/test'))\n",
    "        \n",
    "        # create label dictionaries\n",
    "        unique_hier_labels = sorted(set(self.train_hier_labels), key=lambda x : x[1])\n",
    "        \n",
    "        cifar_meta = unpickle('cifar-100-python/meta')\n",
    "        cifar_meta['coarse_label_names'] = [x.decode('utf8') for x in cifar_meta[b'coarse_label_names']]\n",
    "        cifar_meta['fine_label_names'] = [x.decode('utf8') for x in cifar_meta[b'fine_label_names']]\n",
    "        \n",
    "        self.flat_label_dict = dict([(y, cifar_meta['coarse_label_names'][x] + '.' + cifar_meta['fine_label_names'][y]) for x, y in unique_hier_labels])\n",
    "        self.hier_label_dict = [dict(enumerate(cifar_meta['coarse_label_names'])), dict(enumerate(cifar_meta['fine_label_names']))]\n",
    "        \n",
    "        # extract features using resnet\n",
    "        resnet = models.resnet152(pretrained=True)\n",
    "        self.resnet_vectorizer = torch.nn.Sequential(*(list(resnet.children())[:-1]))\n",
    "        \n",
    "        self.train_features = self.extract_resnet_features(self.train_images)\n",
    "        self.test_features = self.extract_resnet_features(self.test_images)\n",
    "        \n",
    "    def _parse_data(self, data_obj):\n",
    "        # extract images\n",
    "        images = []\n",
    "        for arr in data_obj[b'data']:\n",
    "            img = np.zeros((32, 32, 3), dtype=np.uint8)\n",
    "            img[..., 0] = np.reshape(arr[:1024], (32, 32))\n",
    "            img[..., 1] = np.reshape(arr[1024:2048], (32, 32))\n",
    "            img[..., 2] = np.reshape(arr[2048:], (32, 32))\n",
    "            images.append(img)\n",
    "        \n",
    "        # extract labels\n",
    "        flat_labels, hier_labels = [], []\n",
    "        for coarse_label, fine_label in zip(data_obj[b'coarse_labels'], data_obj[b'fine_labels']):\n",
    "            flat_labels.append(fine_label)\n",
    "            hier_labels.append((coarse_label, fine_label))\n",
    "        \n",
    "        return images, flat_labels, hier_labels\n",
    "    \n",
    "    def extract_resnet_features(self, images, batch_size=16):\n",
    "        features = []\n",
    "        for i in range(int(np.ceil(len(images)/batch_size))):\n",
    "            batch = np.transpose(images[i*batch_size:(i+1)*batch_size], (0, 3, 1, 2))\n",
    "            features.append(self.resnet_vectorizer(torch.tensor(batch, dtype=torch.float32)))\n",
    "        features = np.concatenate(features, axis=0).squeeze(-1).squeeze(-1)\n",
    "        return features"
   ]
  },
  {
   "cell_type": "code",
   "execution_count": null,
   "metadata": {},
   "outputs": [
    {
     "name": "stderr",
     "output_type": "stream",
     "text": [
      "Downloading: \"https://download.pytorch.org/models/resnet152-b121ed2d.pth\" to /home/ec2-user/.cache/torch/checkpoints/resnet152-b121ed2d.pth\n",
      "100%|██████████| 230M/230M [00:10<00:00, 22.3MB/s] \n"
     ]
    }
   ],
   "source": [
    "cifar100 = Cifar100()"
   ]
  },
  {
   "cell_type": "code",
   "execution_count": null,
   "metadata": {},
   "outputs": [],
   "source": []
  },
  {
   "cell_type": "code",
   "execution_count": null,
   "metadata": {},
   "outputs": [],
   "source": []
  },
  {
   "cell_type": "code",
   "execution_count": null,
   "metadata": {},
   "outputs": [],
   "source": []
  },
  {
   "cell_type": "code",
   "execution_count": null,
   "metadata": {},
   "outputs": [],
   "source": []
  },
  {
   "cell_type": "markdown",
   "metadata": {},
   "source": [
    "### Logistic Regression"
   ]
  },
  {
   "cell_type": "code",
   "execution_count": 18,
   "metadata": {},
   "outputs": [],
   "source": [
    "from sklearn.linear_model import LogisticRegression"
   ]
  },
  {
   "cell_type": "code",
   "execution_count": 19,
   "metadata": {},
   "outputs": [],
   "source": [
    "clf = LogisticRegression(class_weight='balanced')"
   ]
  },
  {
   "cell_type": "code",
   "execution_count": 20,
   "metadata": {},
   "outputs": [
    {
     "name": "stderr",
     "output_type": "stream",
     "text": [
      "/home/ec2-user/anaconda3/envs/pytorch_p36/lib/python3.6/site-packages/sklearn/linear_model/logistic.py:433: FutureWarning: Default solver will be changed to 'lbfgs' in 0.22. Specify a solver to silence this warning.\n",
      "  FutureWarning)\n",
      "/home/ec2-user/anaconda3/envs/pytorch_p36/lib/python3.6/site-packages/sklearn/linear_model/logistic.py:460: FutureWarning: Default multi_class will be changed to 'auto' in 0.22. Specify the multi_class option to silence this warning.\n",
      "  \"this warning.\", FutureWarning)\n"
     ]
    },
    {
     "data": {
      "text/plain": [
       "LogisticRegression(C=1.0, class_weight='balanced', dual=False,\n",
       "          fit_intercept=True, intercept_scaling=1, max_iter=100,\n",
       "          multi_class='warn', n_jobs=None, penalty='l2', random_state=None,\n",
       "          solver='warn', tol=0.0001, verbose=0, warm_start=False)"
      ]
     },
     "execution_count": 20,
     "metadata": {},
     "output_type": "execute_result"
    }
   ],
   "source": [
    "clf.fit(train_features, train_targets)"
   ]
  },
  {
   "cell_type": "code",
   "execution_count": 21,
   "metadata": {},
   "outputs": [
    {
     "data": {
      "text/plain": [
       "0.9643133355430339"
      ]
     },
     "execution_count": 21,
     "metadata": {},
     "output_type": "execute_result"
    }
   ],
   "source": [
    "clf.score(train_features, train_targets)"
   ]
  },
  {
   "cell_type": "code",
   "execution_count": 22,
   "metadata": {},
   "outputs": [
    {
     "data": {
      "text/plain": [
       "0.8824569155987627"
      ]
     },
     "execution_count": 22,
     "metadata": {},
     "output_type": "execute_result"
    }
   ],
   "source": [
    "clf.score(val_features, val_targets)"
   ]
  },
  {
   "cell_type": "code",
   "execution_count": 23,
   "metadata": {},
   "outputs": [
    {
     "data": {
      "text/plain": [
       "0.8068242166755177"
      ]
     },
     "execution_count": 23,
     "metadata": {},
     "output_type": "execute_result"
    }
   ],
   "source": [
    "clf.score(test_features, test.target)"
   ]
  },
  {
   "cell_type": "code",
   "execution_count": null,
   "metadata": {},
   "outputs": [],
   "source": []
  }
 ],
 "metadata": {
  "kernelspec": {
   "display_name": "conda_pytorch_p36",
   "language": "python",
   "name": "conda_pytorch_p36"
  },
  "language_info": {
   "codemirror_mode": {
    "name": "ipython",
    "version": 3
   },
   "file_extension": ".py",
   "mimetype": "text/x-python",
   "name": "python",
   "nbconvert_exporter": "python",
   "pygments_lexer": "ipython3",
   "version": "3.6.5"
  }
 },
 "nbformat": 4,
 "nbformat_minor": 4
}
