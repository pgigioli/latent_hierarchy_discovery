{
 "cells": [
  {
   "cell_type": "code",
   "execution_count": 1,
   "metadata": {},
   "outputs": [],
   "source": [
    "from sklearn.datasets import fetch_20newsgroups\n",
    "from sklearn.feature_extraction.text import TfidfVectorizer\n",
    "from sklearn.feature_extraction import stop_words\n",
    "from sklearn.model_selection import train_test_split\n",
    "from string import punctuation\n",
    "from collections import Counter\n",
    "import matplotlib.pyplot as plt\n",
    "import pickle\n",
    "import numpy as np\n",
    "stop_words = list(stop_words.ENGLISH_STOP_WORDS) + list(punctuation)\n",
    "\n",
    "import torchvision.models as models\n",
    "import torch"
   ]
  },
  {
   "cell_type": "code",
   "execution_count": 2,
   "metadata": {},
   "outputs": [],
   "source": [
    "hparams = {\n",
    "    'n_features' : 10000\n",
    "}"
   ]
  },
  {
   "cell_type": "markdown",
   "metadata": {},
   "source": [
    "### 20newgroups"
   ]
  },
  {
   "cell_type": "code",
   "execution_count": 3,
   "metadata": {},
   "outputs": [],
   "source": [
    "from sklearn.datasets import fetch_20newsgroups\n",
    "from sklearn.feature_extraction.text import TfidfVectorizer\n",
    "from sklearn.feature_extraction import stop_words\n",
    "from sklearn.model_selection import train_test_split\n",
    "from string import punctuation\n",
    "\n",
    "stop_words = list(stop_words.ENGLISH_STOP_WORDS) + list(punctuation)"
   ]
  },
  {
   "cell_type": "code",
   "execution_count": 51,
   "metadata": {},
   "outputs": [],
   "source": [
    "class Newsgroups:\n",
    "    def __init__(self, n_features=10000):\n",
    "        self.n_features = n_features\n",
    "        \n",
    "        train = fetch_20newsgroups(subset='train')\n",
    "        test = fetch_20newsgroups(subset='test')\n",
    "\n",
    "        self.train_texts, self.train_flat_labels = train.data, train.target    \n",
    "        self.test_texts, self.test_flat_labels = test.data, test.target\n",
    "\n",
    "        tfidf = TfidfVectorizer(max_features=self.n_features, stop_words=stop_words)\n",
    "        self.train_features = tfidf.fit_transform(self.train_texts).toarray().astype(np.float32)\n",
    "        self.test_features = tfidf.transform(self.test_texts).toarray().astype(np.float32)\n",
    "\n",
    "        self.class_counts = Counter(self.train_flat_labels)\n",
    "        self.class_weights = np.array(\n",
    "            [max(self.class_counts.values())/self.class_counts[i] for i in range(len(self.class_counts))]\n",
    "        )\n",
    "\n",
    "        self.flat_label_dict = dict([(k, v) for k, v in enumerate(train.target_names)])\n",
    "        \n",
    "        labels_split = [x.split('.') for x in list(self.flat_label_dict.values())]\n",
    "        \n",
    "        self.hier_label_dict = []\n",
    "        self.inv_hier_label_dict = []\n",
    "        for i in range(max([len(x) for x in labels_split])):\n",
    "            hier_labels = set([x[i] for x in labels_split if len(x) >= i+1])\n",
    "            label_dict = dict(enumerate(hier_labels))\n",
    "            self.hier_label_dict.append(label_dict)\n",
    "            self.inv_hier_label_dict.append(dict([(v, k) for k, v in label_dict.items()]))\n",
    "            \n",
    "        self.flat_to_hier = dict([\n",
    "            (k, [self.inv_hier_label_dict[i][y] for i, y in enumerate(v.split('.'))]) \n",
    "            for k, v in self.flat_label_dict.items()\n",
    "        ])\n",
    "        \n",
    "        self.train_hier_labels = [self.flat_to_hier[x] for x in self.train_flat_labels]\n",
    "        self.test_hier_labels = [self.flat_to_hier[x] for x in self.test_flat_labels]\n",
    "        \n",
    "    def create_dag(self):\n",
    "        "
   ]
  },
  {
   "cell_type": "code",
   "execution_count": 52,
   "metadata": {},
   "outputs": [],
   "source": [
    "data = Newsgroups()"
   ]
  },
  {
   "cell_type": "code",
   "execution_count": 61,
   "metadata": {},
   "outputs": [
    {
     "data": {
      "text/plain": [
       "[{0: 'soc', 1: 'misc', 2: 'alt', 3: 'sci', 4: 'talk', 5: 'comp', 6: 'rec'},\n",
       " {0: 'crypt',\n",
       "  1: 'space',\n",
       "  2: 'religion',\n",
       "  3: 'electronics',\n",
       "  4: 'med',\n",
       "  5: 'sys',\n",
       "  6: 'os',\n",
       "  7: 'autos',\n",
       "  8: 'forsale',\n",
       "  9: 'motorcycles',\n",
       "  10: 'graphics',\n",
       "  11: 'atheism',\n",
       "  12: 'politics',\n",
       "  13: 'windows',\n",
       "  14: 'sport'},\n",
       " {0: 'misc',\n",
       "  1: 'mideast',\n",
       "  2: 'baseball',\n",
       "  3: 'x',\n",
       "  4: 'guns',\n",
       "  5: 'ms-windows',\n",
       "  6: 'mac',\n",
       "  7: 'hockey',\n",
       "  8: 'ibm',\n",
       "  9: 'christian'},\n",
       " {0: 'pc', 1: 'misc', 2: 'hardware'},\n",
       " {0: 'hardware'}]"
      ]
     },
     "execution_count": 61,
     "metadata": {},
     "output_type": "execute_result"
    }
   ],
   "source": [
    "data.hier_label_dict"
   ]
  },
  {
   "cell_type": "code",
   "execution_count": 64,
   "metadata": {},
   "outputs": [
    {
     "data": {
      "text/plain": [
       "['alt.atheism',\n",
       " 'comp.graphics',\n",
       " 'comp.os.ms-windows.misc',\n",
       " 'comp.sys.ibm.pc.hardware',\n",
       " 'comp.sys.mac.hardware',\n",
       " 'comp.windows.x',\n",
       " 'misc.forsale',\n",
       " 'rec.autos',\n",
       " 'rec.motorcycles',\n",
       " 'rec.sport.baseball',\n",
       " 'rec.sport.hockey',\n",
       " 'sci.crypt',\n",
       " 'sci.electronics',\n",
       " 'sci.med',\n",
       " 'sci.space',\n",
       " 'soc.religion.christian',\n",
       " 'talk.politics.guns',\n",
       " 'talk.politics.mideast',\n",
       " 'talk.politics.misc',\n",
       " 'talk.religion.misc']"
      ]
     },
     "execution_count": 64,
     "metadata": {},
     "output_type": "execute_result"
    }
   ],
   "source": [
    "list(data.flat_label_dict.values())"
   ]
  },
  {
   "cell_type": "code",
   "execution_count": null,
   "metadata": {},
   "outputs": [],
   "source": []
  },
  {
   "cell_type": "code",
   "execution_count": null,
   "metadata": {},
   "outputs": [],
   "source": []
  },
  {
   "cell_type": "code",
   "execution_count": null,
   "metadata": {},
   "outputs": [],
   "source": []
  },
  {
   "cell_type": "code",
   "execution_count": null,
   "metadata": {},
   "outputs": [],
   "source": []
  },
  {
   "cell_type": "code",
   "execution_count": null,
   "metadata": {},
   "outputs": [],
   "source": []
  },
  {
   "cell_type": "markdown",
   "metadata": {},
   "source": [
    "### CIFAR-100"
   ]
  },
  {
   "cell_type": "code",
   "execution_count": 2,
   "metadata": {},
   "outputs": [],
   "source": [
    "import subprocess\n",
    "import os\n",
    "\n",
    "def unpickle(file):\n",
    "    import pickle\n",
    "    with open(file, 'rb') as fo:\n",
    "        dict = pickle.load(fo, encoding='bytes')\n",
    "    return dict\n",
    "\n",
    "class Cifar100:\n",
    "    def __init__(self, batch_size=1024):\n",
    "        if not os.path.exists('cifar-100-python'):\n",
    "            if not os.path.exists('cifar-100-python.tar.gz'):\n",
    "                process = subprocess.Popen('wget https://www.cs.toronto.edu/~kriz/cifar-100-python.tar.gz'.split(), stdout=subprocess.PIPE)\n",
    "                output, error = process.communicate()\n",
    "                if error: print(error)\n",
    "            process = subprocess.Popen('tar -zxf cifar-100-python.tar.gz'.split(), stdout=subprocess.PIPE)\n",
    "            output, error = process.communicate()\n",
    "            if error: print(error)\n",
    "        \n",
    "        self.train_images, self.train_flat_labels, self.train_hier_labels = self._parse_data(unpickle('cifar-100-python/train'))\n",
    "        self.test_images, self.test_flat_labels, self.test_hier_labels = self._parse_data(unpickle('cifar-100-python/test'))\n",
    "        \n",
    "        # calculate class weights\n",
    "        self.class_counts = Counter(self.train_flat_labels)\n",
    "        self.class_weights = np.array(\n",
    "            [max(self.class_counts.values())/self.class_counts[i] for i in range(len(self.class_counts))]\n",
    "        )\n",
    "        \n",
    "        # create label dictionaries\n",
    "        unique_hier_labels = sorted(set(self.train_hier_labels), key=lambda x : x[1])\n",
    "        \n",
    "        cifar_meta = unpickle('cifar-100-python/meta')\n",
    "        cifar_meta['coarse_label_names'] = [x.decode('utf8') for x in cifar_meta[b'coarse_label_names']]\n",
    "        cifar_meta['fine_label_names'] = [x.decode('utf8') for x in cifar_meta[b'fine_label_names']]\n",
    "        \n",
    "        self.flat_label_dict = dict([(y, cifar_meta['coarse_label_names'][x] + '.' + cifar_meta['fine_label_names'][y]) for x, y in unique_hier_labels])\n",
    "        self.hier_label_dict = [dict(enumerate(cifar_meta['coarse_label_names'])), dict(enumerate(cifar_meta['fine_label_names']))]\n",
    "        \n",
    "        # extract features using resnet\n",
    "        #resnet = models.resnet152(pretrained=True)\n",
    "        resnet = models.resnet18(pretrained=True)\n",
    "        self.resnet_vectorizer = torch.nn.Sequential(*(list(resnet.children())[:-1]))\n",
    "        \n",
    "        print('Extracting train resnet features...')\n",
    "        self.train_features = self.extract_resnet_features(self.train_images, batch_size=batch_size)\n",
    "        print('Extracting test resnet features...')\n",
    "        self.test_features = self.extract_resnet_features(self.test_images, batch_size=batch_size)\n",
    "        \n",
    "    def _parse_data(self, data_obj):\n",
    "        # extract images\n",
    "        images = []\n",
    "        for arr in data_obj[b'data']:\n",
    "            img = np.zeros((32, 32, 3), dtype=np.uint8)\n",
    "            img[..., 0] = np.reshape(arr[:1024], (32, 32))\n",
    "            img[..., 1] = np.reshape(arr[1024:2048], (32, 32))\n",
    "            img[..., 2] = np.reshape(arr[2048:], (32, 32))\n",
    "            images.append(img)\n",
    "        \n",
    "        # extract labels\n",
    "        flat_labels, hier_labels = [], []\n",
    "        for coarse_label, fine_label in zip(data_obj[b'coarse_labels'], data_obj[b'fine_labels']):\n",
    "            flat_labels.append(fine_label)\n",
    "            hier_labels.append((coarse_label, fine_label))\n",
    "        \n",
    "        return images, flat_labels, hier_labels\n",
    "    \n",
    "    def extract_resnet_features(self, images, batch_size=64):\n",
    "        with torch.no_grad():\n",
    "            features = []\n",
    "            ct = 0\n",
    "            for i in range(int(np.ceil(len(images)/batch_size))):\n",
    "                batch = np.transpose(images[i*batch_size:(i+1)*batch_size], (0, 3, 1, 2))\n",
    "                features.append(self.resnet_vectorizer(torch.tensor(batch, dtype=torch.float32)))\n",
    "                ct += len(batch)\n",
    "                print(ct, end='\\r', flush=True)\n",
    "            features = np.concatenate(features, axis=0).squeeze(-1).squeeze(-1)\n",
    "            return features"
   ]
  },
  {
   "cell_type": "code",
   "execution_count": 3,
   "metadata": {},
   "outputs": [
    {
     "name": "stdout",
     "output_type": "stream",
     "text": [
      "Extracting train resnet features...\n",
      "Extracting test resnet features...\n",
      "10000\r"
     ]
    }
   ],
   "source": [
    "cifar100 = Cifar100(batch_size=2048)"
   ]
  },
  {
   "cell_type": "code",
   "execution_count": 17,
   "metadata": {},
   "outputs": [],
   "source": [
    "# data = {\n",
    "#     'class_weights' : cifar100.class_weights,\n",
    "#     'flat_label_dict' : cifar100.flat_label_dict,\n",
    "#     'hier_label_dict' : cifar100.hier_label_dict,\n",
    "#     'train' : {\n",
    "#         'images' : cifar100.train_images,\n",
    "#         'features' : cifar100.train_features,\n",
    "#         'flat_labels' : cifar100.train_flat_labels,\n",
    "#         'hier_labels' : cifar100.train_hier_labels\n",
    "#     },\n",
    "#     'test' : {\n",
    "#         'images' : cifar100.test_images,\n",
    "#         'features' : cifar100.test_features,\n",
    "#         'flat_labels' : cifar100.test_flat_labels,\n",
    "#         'hier_labels' : cifar100.test_hier_labels\n",
    "#     }\n",
    "# }\n",
    "\n",
    "# pickle.dump(data, open('data/cifar100.pickle', 'wb'))"
   ]
  },
  {
   "cell_type": "code",
   "execution_count": null,
   "metadata": {},
   "outputs": [],
   "source": []
  }
 ],
 "metadata": {
  "kernelspec": {
   "display_name": "conda_pytorch_p36",
   "language": "python",
   "name": "conda_pytorch_p36"
  },
  "language_info": {
   "codemirror_mode": {
    "name": "ipython",
    "version": 3
   },
   "file_extension": ".py",
   "mimetype": "text/x-python",
   "name": "python",
   "nbconvert_exporter": "python",
   "pygments_lexer": "ipython3",
   "version": "3.6.5"
  }
 },
 "nbformat": 4,
 "nbformat_minor": 4
}
