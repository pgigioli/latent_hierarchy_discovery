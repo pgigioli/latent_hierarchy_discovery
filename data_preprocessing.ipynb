{
 "cells": [
  {
   "cell_type": "code",
   "execution_count": 1,
   "metadata": {},
   "outputs": [],
   "source": [
    "from sklearn.datasets import fetch_20newsgroups\n",
    "from sklearn.feature_extraction.text import TfidfVectorizer\n",
    "from sklearn.feature_extraction import stop_words\n",
    "from sklearn.model_selection import train_test_split\n",
    "from string import punctuation\n",
    "from collections import Counter\n",
    "import matplotlib.pyplot as plt\n",
    "import pickle\n",
    "import numpy as np\n",
    "stop_words = list(stop_words.ENGLISH_STOP_WORDS) + list(punctuation)\n",
    "\n",
    "import torchvision.models as models\n",
    "import torch"
   ]
  },
  {
   "cell_type": "code",
   "execution_count": 2,
   "metadata": {},
   "outputs": [],
   "source": [
    "hparams = {\n",
    "    'n_features' : 10000\n",
    "}"
   ]
  },
  {
   "cell_type": "markdown",
   "metadata": {},
   "source": [
    "### 20newgroups"
   ]
  },
  {
   "cell_type": "code",
   "execution_count": 1,
   "metadata": {},
   "outputs": [],
   "source": [
    "from sklearn.datasets import fetch_20newsgroups\n",
    "from sklearn.feature_extraction.text import TfidfVectorizer\n",
    "from sklearn.feature_extraction import stop_words\n",
    "from sklearn.model_selection import train_test_split\n",
    "from string import punctuation\n",
    "\n",
    "stop_words = list(stop_words.ENGLISH_STOP_WORDS) + list(punctuation)"
   ]
  },
  {
   "cell_type": "code",
   "execution_count": 3,
   "metadata": {},
   "outputs": [],
   "source": [
    "class Newsgroups:\n",
    "    def __init__(self, n_features=10000):\n",
    "        self.n_features = n_features\n",
    "        \n",
    "        train = fetch_20newsgroups(subset='train')\n",
    "        test = fetch_20newsgroups(subset='test')\n",
    "\n",
    "        self.train_texts, self.train_flat_labels = train.data, train.target    \n",
    "        self.test_texts, self.test_flat_labels = test.data, test.target\n",
    "\n",
    "        tfidf = TfidfVectorizer(max_features=self.n_features, stop_words=stop_words)\n",
    "        self.train_features = tfidf.fit_transform(self.train_texts).toarray().astype(np.float32)\n",
    "        self.test_features = tfidf.transform(self.test_texts).toarray().astype(np.float32)\n",
    "\n",
    "        self.class_counts = Counter(self.train_flat_labels)\n",
    "        self.class_weights = np.array(\n",
    "            [max(self.class_counts.values())/self.class_counts[i] for i in range(len(self.class_counts))]\n",
    "        )\n",
    "\n",
    "        self.label_dict = dict([(k, v) for k, v in enumerate(train.target_names)])"
   ]
  },
  {
   "cell_type": "code",
   "execution_count": null,
   "metadata": {},
   "outputs": [],
   "source": []
  },
  {
   "cell_type": "code",
   "execution_count": null,
   "metadata": {},
   "outputs": [],
   "source": []
  },
  {
   "cell_type": "markdown",
   "metadata": {},
   "source": [
    "### CIFAR-100"
   ]
  },
  {
   "cell_type": "code",
   "execution_count": 2,
   "metadata": {},
   "outputs": [],
   "source": [
    "import subprocess\n",
    "import os\n",
    "\n",
    "def unpickle(file):\n",
    "    import pickle\n",
    "    with open(file, 'rb') as fo:\n",
    "        dict = pickle.load(fo, encoding='bytes')\n",
    "    return dict\n",
    "\n",
    "class Cifar100:\n",
    "    def __init__(self, batch_size=1024):\n",
    "        if not os.path.exists('cifar-100-python'):\n",
    "            if not os.path.exists('cifar-100-python.tar.gz'):\n",
    "                process = subprocess.Popen('wget https://www.cs.toronto.edu/~kriz/cifar-100-python.tar.gz'.split(), stdout=subprocess.PIPE)\n",
    "                output, error = process.communicate()\n",
    "                if error: print(error)\n",
    "            process = subprocess.Popen('tar -zxf cifar-100-python.tar.gz'.split(), stdout=subprocess.PIPE)\n",
    "            output, error = process.communicate()\n",
    "            if error: print(error)\n",
    "        \n",
    "        self.train_images, self.train_flat_labels, self.train_hier_labels = self._parse_data(unpickle('cifar-100-python/train'))\n",
    "        self.test_images, self.test_flat_labels, self.test_hier_labels = self._parse_data(unpickle('cifar-100-python/test'))\n",
    "        \n",
    "        # calculate class weights\n",
    "        self.class_counts = Counter(self.train_flat_labels)\n",
    "        self.class_weights = np.array(\n",
    "            [max(self.class_counts.values())/self.class_counts[i] for i in range(len(self.class_counts))]\n",
    "        )\n",
    "        \n",
    "        # create label dictionaries\n",
    "        unique_hier_labels = sorted(set(self.train_hier_labels), key=lambda x : x[1])\n",
    "        \n",
    "        cifar_meta = unpickle('cifar-100-python/meta')\n",
    "        cifar_meta['coarse_label_names'] = [x.decode('utf8') for x in cifar_meta[b'coarse_label_names']]\n",
    "        cifar_meta['fine_label_names'] = [x.decode('utf8') for x in cifar_meta[b'fine_label_names']]\n",
    "        \n",
    "        self.flat_label_dict = dict([(y, cifar_meta['coarse_label_names'][x] + '.' + cifar_meta['fine_label_names'][y]) for x, y in unique_hier_labels])\n",
    "        self.hier_label_dict = [dict(enumerate(cifar_meta['coarse_label_names'])), dict(enumerate(cifar_meta['fine_label_names']))]\n",
    "        \n",
    "        # extract features using resnet\n",
    "        #resnet = models.resnet152(pretrained=True)\n",
    "        resnet = models.resnet18(pretrained=True)\n",
    "        self.resnet_vectorizer = torch.nn.Sequential(*(list(resnet.children())[:-1]))\n",
    "        \n",
    "        print('Extracting train resnet features...')\n",
    "        self.train_features = self.extract_resnet_features(self.train_images, batch_size=batch_size)\n",
    "        print('Extracting test resnet features...')\n",
    "        self.test_features = self.extract_resnet_features(self.test_images, batch_size=batch_size)\n",
    "        \n",
    "    def _parse_data(self, data_obj):\n",
    "        # extract images\n",
    "        images = []\n",
    "        for arr in data_obj[b'data']:\n",
    "            img = np.zeros((32, 32, 3), dtype=np.uint8)\n",
    "            img[..., 0] = np.reshape(arr[:1024], (32, 32))\n",
    "            img[..., 1] = np.reshape(arr[1024:2048], (32, 32))\n",
    "            img[..., 2] = np.reshape(arr[2048:], (32, 32))\n",
    "            images.append(img)\n",
    "        \n",
    "        # extract labels\n",
    "        flat_labels, hier_labels = [], []\n",
    "        for coarse_label, fine_label in zip(data_obj[b'coarse_labels'], data_obj[b'fine_labels']):\n",
    "            flat_labels.append(fine_label)\n",
    "            hier_labels.append((coarse_label, fine_label))\n",
    "        \n",
    "        return images, flat_labels, hier_labels\n",
    "    \n",
    "    def extract_resnet_features(self, images, batch_size=64):\n",
    "        with torch.no_grad():\n",
    "            features = []\n",
    "            ct = 0\n",
    "            for i in range(int(np.ceil(len(images)/batch_size))):\n",
    "                batch = np.transpose(images[i*batch_size:(i+1)*batch_size], (0, 3, 1, 2))\n",
    "                features.append(self.resnet_vectorizer(torch.tensor(batch, dtype=torch.float32)))\n",
    "                ct += len(batch)\n",
    "                print(ct, end='\\r', flush=True)\n",
    "            features = np.concatenate(features, axis=0).squeeze(-1).squeeze(-1)\n",
    "            return features"
   ]
  },
  {
   "cell_type": "code",
   "execution_count": 3,
   "metadata": {},
   "outputs": [
    {
     "name": "stdout",
     "output_type": "stream",
     "text": [
      "Extracting train resnet features...\n",
      "Extracting test resnet features...\n",
      "10000\r"
     ]
    }
   ],
   "source": [
    "cifar100 = Cifar100(batch_size=2048)"
   ]
  },
  {
   "cell_type": "code",
   "execution_count": 17,
   "metadata": {},
   "outputs": [],
   "source": [
    "# data = {\n",
    "#     'class_weights' : cifar100.class_weights,\n",
    "#     'flat_label_dict' : cifar100.flat_label_dict,\n",
    "#     'hier_label_dict' : cifar100.hier_label_dict,\n",
    "#     'train' : {\n",
    "#         'images' : cifar100.train_images,\n",
    "#         'features' : cifar100.train_features,\n",
    "#         'flat_labels' : cifar100.train_flat_labels,\n",
    "#         'hier_labels' : cifar100.train_hier_labels\n",
    "#     },\n",
    "#     'test' : {\n",
    "#         'images' : cifar100.test_images,\n",
    "#         'features' : cifar100.test_features,\n",
    "#         'flat_labels' : cifar100.test_flat_labels,\n",
    "#         'hier_labels' : cifar100.test_hier_labels\n",
    "#     }\n",
    "# }\n",
    "\n",
    "# pickle.dump(data, open('data/cifar100.pickle', 'wb'))"
   ]
  },
  {
   "cell_type": "code",
   "execution_count": null,
   "metadata": {},
   "outputs": [],
   "source": []
  }
 ],
 "metadata": {
  "kernelspec": {
   "display_name": "conda_pytorch_p36",
   "language": "python",
   "name": "conda_pytorch_p36"
  },
  "language_info": {
   "codemirror_mode": {
    "name": "ipython",
    "version": 3
   },
   "file_extension": ".py",
   "mimetype": "text/x-python",
   "name": "python",
   "nbconvert_exporter": "python",
   "pygments_lexer": "ipython3",
   "version": "3.6.5"
  }
 },
 "nbformat": 4,
 "nbformat_minor": 4
}
