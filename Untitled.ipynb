{
 "cells": [
  {
   "cell_type": "code",
   "execution_count": 25,
   "metadata": {},
   "outputs": [],
   "source": [
    "import torch\n",
    "import torch.nn as nn\n",
    "import torch.nn.functional as F"
   ]
  },
  {
   "cell_type": "code",
   "execution_count": 5,
   "metadata": {},
   "outputs": [],
   "source": [
    "hparams = {\n",
    "    'n_features' : 10000,\n",
    "    'hidden_dim' : 128\n",
    "}"
   ]
  },
  {
   "cell_type": "code",
   "execution_count": 145,
   "metadata": {},
   "outputs": [],
   "source": [
    "def straight_through_estimator(logits):\n",
    "    argmax = torch.eq(logits, logits.max(-1, keepdim=True).values).to(logits.dtype)\n",
    "    return (argmax - logits).detach() + logits\n",
    "\n",
    "def gumbel_softmax(logits, temperature=1.0, eps=1e-20):\n",
    "    u = torch.rand(logits.size(), dtype=logits.dtype, device=logits.device)\n",
    "    g = -torch.log(-torch.log(u + eps) + eps)\n",
    "    return F.softmax((logits + g) / temperature, dim=-1)\n",
    "\n",
    "class CategoricalLayer(nn.Module):\n",
    "    def __init__(self, input_dim, categorical_dim, output_dim=None):\n",
    "        super().__init__()\n",
    "        \n",
    "        if output_dim == None:\n",
    "            output_dim = input_dim\n",
    "            \n",
    "        self.dense_in = nn.Linear(input_dim, categorical_dim, bias=True)\n",
    "        self.dense_out = nn.Linear(input_dim+categorical_dim, output_dim, bias=True)\n",
    "        \n",
    "    def forward(self, inputs, straight_through=True, sample=False, temperature=1.0):\n",
    "        logits = self.dense_in(inputs)\n",
    "        \n",
    "        if sample:\n",
    "            dist = gumbel_softmax(logits, temperature=temperature)\n",
    "        else:\n",
    "            dist = F.softmax(logits, dim=-1)\n",
    "            \n",
    "        if straight_through:\n",
    "            dist = straight_through_estimator(dist)\n",
    "            \n",
    "        h = self.dense_out(torch.cat([inputs, dist], dim=-1))\n",
    "        return h, dist"
   ]
  },
  {
   "cell_type": "code",
   "execution_count": 3,
   "metadata": {},
   "outputs": [],
   "source": [
    "inputs = torch.rand(8, hparams['n_features'])\n",
    "\n",
    "input_dense = nn.Linear(hparams['n_features'], hparams['hidden_dim'], bias=True)\n",
    "\n"
   ]
  },
  {
   "cell_type": "code",
   "execution_count": null,
   "metadata": {},
   "outputs": [],
   "source": []
  },
  {
   "cell_type": "code",
   "execution_count": null,
   "metadata": {},
   "outputs": [],
   "source": []
  }
 ],
 "metadata": {
  "kernelspec": {
   "display_name": "conda_pytorch_p36",
   "language": "python",
   "name": "conda_pytorch_p36"
  },
  "language_info": {
   "codemirror_mode": {
    "name": "ipython",
    "version": 3
   },
   "file_extension": ".py",
   "mimetype": "text/x-python",
   "name": "python",
   "nbconvert_exporter": "python",
   "pygments_lexer": "ipython3",
   "version": "3.6.5"
  }
 },
 "nbformat": 4,
 "nbformat_minor": 4
}
